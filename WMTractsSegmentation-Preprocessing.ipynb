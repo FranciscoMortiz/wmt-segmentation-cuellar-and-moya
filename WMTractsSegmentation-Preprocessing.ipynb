{
 "cells": [
  {
   "cell_type": "code",
   "execution_count": 113,
   "metadata": {},
   "outputs": [],
   "source": [
    "import os\n",
    "from pathlib import Path\n",
    "import nibabel as nib\n",
    "import numpy as np\n",
    "import matplotlib.pyplot as plt\n",
    "from intensity_normalization.normalize import fcm\n",
    "%matplotlib inline"
   ]
  },
  {
   "cell_type": "markdown",
   "metadata": {},
   "source": [
    "## Get path to images "
   ]
  },
  {
   "cell_type": "code",
   "execution_count": 115,
   "metadata": {},
   "outputs": [],
   "source": [
    "root =\"BrainPTM\"\n",
    "annotations = [label for label in Path(root, \"Annotations\").glob(\"**/*.gz\")]\n",
    "data = [im for im in Path(root, \"data\").glob(\"**/*.gz\")]\n",
    "dataT1=[]\n",
    "dataDiff =[]\n",
    "dataMask= []\n",
    "\n",
    "#Separate images into T1, Difussion and brain mask\n",
    "for i in range(0,len(data)):\n",
    "    if \"T1\" in str(data[i]):\n",
    "        dataT1.append(str(data[i]))\n",
    "    elif \"Diffusion\" in str(data[i]):\n",
    "        dataDiff.append(str(data[i]))\n",
    "    else:\n",
    "        dataMask.append(str(data[i]))\n",
    "        \n",
    "dataT1.sort()\n",
    "dataMask.sort()\n",
    "\n",
    "\n",
    "or_left =[]\n",
    "or_right=[]\n",
    "cst_left=[]\n",
    "cst_right=[]\n",
    "        \n",
    "#Stores masks of each tract in a separate list\n",
    "for i in range(0,len(annotations)):\n",
    "    if \"OR_left\" in str(annotations[i]):\n",
    "        or_left.append(annotations[i])\n",
    "    elif \"OR_right\" in str(annotations[i]):\n",
    "        or_right.append(annotations[i])\n",
    "        \n",
    "    elif \"CST_right\" in str(annotations[i]):\n",
    "        cst_right.append(annotations[i])\n",
    "        \n",
    "    elif \"CST_left\" in str(annotations[i]):\n",
    "        cst_left.append(annotations[i])\n",
    "\n",
    "#Tract used to perform training and testing\n",
    "tract_mask=or_right\n"
   ]
  },
  {
   "cell_type": "markdown",
   "metadata": {},
   "source": [
    "## Normalizing the T1 volumes\n",
    "Performs fcm normalization on T1 volumes and stores the normalized volumes in a directory.\n",
    "\n",
    "*intensity-normalization module needed, dowloaded from: https://github.com/jcreinhold/intensity-normalization*\n"
   ]
  },
  {
   "cell_type": "code",
   "execution_count": 90,
   "metadata": {},
   "outputs": [
    {
     "name": "stdout",
     "output_type": "stream",
     "text": [
      "The directory already exists\n"
     ]
    }
   ],
   "source": [
    "image = nib.load(dataT1[0])\n",
    "mask=nib.load(dataMask[0])\n",
    "normalized = fcm.fcm_normalize(image, mask)\n",
    "nrmdir = os.path.join(\"WMTdata\", \"T1\") # Directory to store Normalized T1 volumes\n",
    "\n",
    "if os.path.isdir(nrmdir):\n",
    "    print(\"The directory already exists\")\n",
    "else:\n",
    "    os.mkdir(nrmdir)\n",
    "    \n",
    "    print(\"-\" *89)\n",
    "    print(\"Normalization of T1 volumes\")\n",
    "    print(\"-\" *89)\n",
    "    \n",
    "    for i in range(len(dataT1)):\n",
    "        assert Path(dataT1[i]).parent.name == Path(dataMask[i]).parent.name\n",
    "        \n",
    "        image = nib.load(dataT1[i])\n",
    "        mask=nib.load(dataMask[i])\n",
    "        normalized = fcm.fcm_normalize(image, mask)\n",
    "        name = Path(dataT1[i]).parent.name + \".nii.gz\"\n",
    "        nib.save(normalized, os.path.join(nrmdir,name))\n",
    "        \n",
    "        if i%6 ==0:\n",
    "            percent =100*i/len(dataT1)\n",
    "            txt = \"{percent}% normalized\"\n",
    "            print(txt.format(percent =np.floor(100*i/len(dataT1))))\n",
    "        if i == len(dataT1) -1:\n",
    "            print(\"100.0% normalized\")"
   ]
  },
  {
   "cell_type": "markdown",
   "metadata": {},
   "source": [
    "### The original images have values between 0 and 3000 (or even 0 and 30000), we perform normalization to narrow that range"
   ]
  },
  {
   "cell_type": "markdown",
   "metadata": {},
   "source": [
    "#### Range of not normalized images:"
   ]
  },
  {
   "cell_type": "code",
   "execution_count": 108,
   "metadata": {},
   "outputs": [
    {
     "name": "stdout",
     "output_type": "stream",
     "text": [
      "Values in range: [0.0, 32767.0] (max range)\n"
     ]
    }
   ],
   "source": [
    "mi=10000000\n",
    "ma=-1000000000000\n",
    "for im in dataT1:\n",
    "    img = nib.load(im).get_fdata()\n",
    "    if np.min(img) < mi:\n",
    "        mi =np.min(img)\n",
    "    if np.max(img) > ma:\n",
    "        ma = np.max(img)\n",
    " \n",
    "\n",
    "txt = \"Values in range: [{min}, {max}] (max range)\"\n",
    "print(txt.format(min =mi, max=ma ))"
   ]
  },
  {
   "cell_type": "markdown",
   "metadata": {},
   "source": [
    "#### Range of normalized images:"
   ]
  },
  {
   "cell_type": "code",
   "execution_count": 111,
   "metadata": {},
   "outputs": [
    {
     "name": "stdout",
     "output_type": "stream",
     "text": [
      "Values in range: [0.0, 4.00873647617118] (max range)\n"
     ]
    }
   ],
   "source": [
    "mi=10000000\n",
    "ma=-1000000000000\n",
    "normalizedT1 = [im for im in Path(nrmdir).glob(\"*.gz\")]\n",
    "for im in normalizedT1:\n",
    "    img = nib.load(im).get_fdata()\n",
    "    if np.min(img) < mi:\n",
    "        mi =np.min(img)\n",
    "    if np.max(img) > ma:\n",
    "        ma = np.max(img)\n",
    " \n",
    "\n",
    "txt = \"Values in range: [{min}, {max}] (max range)\"\n",
    "print(txt.format(min =mi, max=ma ))"
   ]
  },
  {
   "cell_type": "markdown",
   "metadata": {},
   "source": [
    "### Visualize images "
   ]
  },
  {
   "cell_type": "code",
   "execution_count": 112,
   "metadata": {},
   "outputs": [
    {
     "data": {
      "text/plain": [
       "(-0.5, 127.5, 143.5, -0.5)"
      ]
     },
     "execution_count": 112,
     "metadata": {},
     "output_type": "execute_result"
    },
    {
     "data": {
      "image/png": "[encoded data removed]",
      "text/plain": [
       "<Figure size 432x288 with 3 Axes>"
      ]
     },
     "metadata": {
      "needs_background": "light"
     },
     "output_type": "display_data"
    }
   ],
   "source": [
    "im = image.get_fdata().T[50,:,:]\n",
    "ann = mask.get_fdata().T[50,:,:]\n",
    "nrm = normalized.get_fdata().T[50,:,:]\n",
    "\n",
    "fig, (ax1,ax2,ax3) = plt.subplots(3,1)\n",
    "ax1.imshow(im)\n",
    "ax1.axis('off')\n",
    "ax2.imshow(nrm)\n",
    "ax2.axis('off')\n",
    "ax3.imshow(ann)\n",
    "ax3.axis('off')"
   ]
  },
  {
   "cell_type": "markdown",
   "metadata": {},
   "source": [
    "After the normalization the images were converted to 2d in tiff format with nii_to_tif method from https://gist.github.com/jcreinhold/01daf54a6002de7bd8d58bad78b4022b *(It is important to evaluate the algorithm without the normalization before 2d transformation i.e perform segmentation without all this preprocessing)*"
   ]
  },
  {
   "cell_type": "markdown",
   "metadata": {},
   "source": [
    "python nii_to_tif.py *(nifti input folder)* /home/fjmoya/FinalProject/wm-segmentation/WMTdata/T1 *(tif output folder)* /home/fjmoya/FinalProject/wm-segmentation/WMTdata/T1_tif"
   ]
  },
  {
   "cell_type": "code",
   "execution_count": 125,
   "metadata": {},
   "outputs": [],
   "source": [
    "#Copy tract_mask to a separate directory\n",
    "import shutil\n",
    "for im in tract_mask:\n",
    "    name =im.name\n",
    "    case=im.parent.name\n",
    "    dirp =\"/home/fjmoya/FinalProject/wm-segmentation/WMTdata/Annotations\"\n",
    "    out = Path(dirp,case+name)\n",
    "    shutil.copyfile(im, out)\n"
   ]
  },
  {
   "cell_type": "markdown",
   "metadata": {},
   "source": [
    "python nii_to_tif.py /home/fjmoya/FinalProject/wm-segmentation/WMTdata/Annotations /home/fjmoya/FinalProject/wm-segmentation/WMTdata/AnnotationsTif\n"
   ]
  }
 ],
 "metadata": {
  "kernelspec": {
   "display_name": "Python 3",
   "language": "python",
   "name": "python3"
  },
  "language_info": {
   "codemirror_mode": {
    "name": "ipython",
    "version": 3
   },
   "file_extension": ".py",
   "mimetype": "text/x-python",
   "name": "python",
   "nbconvert_exporter": "python",
   "pygments_lexer": "ipython3",
   "version": "3.7.3"
  }
 },
 "nbformat": 4,
 "nbformat_minor": 2
}
